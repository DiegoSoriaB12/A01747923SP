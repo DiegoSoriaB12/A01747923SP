{
  "cells": [
    {
      "cell_type": "markdown",
      "metadata": {
        "id": "view-in-github",
        "colab_type": "text"
      },
      "source": [
        "<a href=\"https://colab.research.google.com/github/DiegoSoriaB12/A01747923SP/blob/main/DataFrameOpeations_2023.ipynb\" target=\"_parent\"><img src=\"https://colab.research.google.com/assets/colab-badge.svg\" alt=\"Open In Colab\"/></a>"
      ]
    },
    {
      "cell_type": "markdown",
      "metadata": {
        "id": "NeVVHjd1xtzC"
      },
      "source": [
        "https://www.coursera.org/learn/python-data-analysis/"
      ]
    },
    {
      "cell_type": "markdown",
      "source": [
        "**Librerías**"
      ],
      "metadata": {
        "id": "QLutpvGdyT_o"
      }
    },
    {
      "cell_type": "code",
      "source": [
        "import pandas as pd\n",
        "import numpy as np"
      ],
      "metadata": {
        "id": "NuFLAGot2J0H"
      },
      "execution_count": null,
      "outputs": []
    },
    {
      "cell_type": "markdown",
      "source": [
        "**Settings**"
      ],
      "metadata": {
        "id": "WON2KWybzSAu"
      }
    },
    {
      "cell_type": "code",
      "source": [
        "pd.set_option('display.max_columns', None)\n",
        "pd.set_option('display.max_rows',None)"
      ],
      "metadata": {
        "id": "oyLkZB3_zUkk"
      },
      "execution_count": null,
      "outputs": []
    },
    {
      "cell_type": "markdown",
      "source": [
        "### Question 1 \n",
        "Load the energy data from the file Energy Indicators.xls, which is a list of indicators of energy supply and renewable electricity production from the United Nations for the year 2013, and should be put into a DataFrame with the variable name of energy.\n",
        "\n",
        "Keep in mind that this is an Excel file, and not a comma separated values file. Also, make sure to exclude the footer and header information from the datafile. The first two columns are unneccessary, so you should get rid of them, and you should change the column labels so that the columns are:\n",
        "\n",
        "['Country', 'Energy Supply', 'Energy Supply per Capita', '% Renewable']"
      ],
      "metadata": {
        "id": "Ct16g-BQ2Gt4"
      }
    },
    {
      "cell_type": "code",
      "source": [
        "  energy=pd.read_excel(...,skiprows = ...,skipfooter=..,na_values=...,header=...,names=[.....])\n",
        "  energy.drop(.....)"
      ],
      "metadata": {
        "id": "MCX4ImiK2d94"
      },
      "execution_count": null,
      "outputs": []
    },
    {
      "cell_type": "markdown",
      "source": [
        "### Question 2 \n",
        "Convert Energy Supply to gigajoules (there are 1,000,000 gigajoules in a petajoule). For all countries which have missing data (e.g. data with \"...\") make sure this is reflected as np.NaN values."
      ],
      "metadata": {
        "id": "0cbG5_HH3jW_"
      }
    },
    {
      "cell_type": "code",
      "source": [
        "energy['Energy Supply']=..."
      ],
      "metadata": {
        "id": "5N-6IPuP30Ra"
      },
      "execution_count": null,
      "outputs": []
    },
    {
      "cell_type": "markdown",
      "source": [
        "### Question 3\n",
        "There are several countries with numbers and/or parenthesis in their name. Be sure to remove these,\n",
        "\n",
        "e.g.\n",
        "\n",
        "'Bolivia (Plurinational State of)' should be 'Bolivia',\n",
        "\n",
        "'Switzerland17' should be 'Switzerland'.\n",
        "\n"
      ],
      "metadata": {
        "id": "m6TeQvV84U9f"
      }
    },
    {
      "cell_type": "code",
      "source": [
        "country_list = energy['Country'].unique()\n",
        "print(country_list)"
      ],
      "metadata": {
        "id": "YprXO-cr4c4O",
        "colab": {
          "base_uri": "https://localhost:8080/"
        },
        "outputId": "795b23a5-ca73-4137-9887-43bb6693848b"
      },
      "execution_count": null,
      "outputs": [
        {
          "output_type": "stream",
          "name": "stdout",
          "text": [
            "['Afghanistan' 'Albania' 'Algeria' 'American Samoa' 'Andorra' 'Angola'\n",
            " 'Anguilla' 'Antigua and Barbuda' 'Argentina' 'Armenia' 'Aruba'\n",
            " 'Australia1' 'Austria' 'Azerbaijan' 'Bahamas' 'Bahrain' 'Bangladesh'\n",
            " 'Barbados' 'Belarus' 'Belgium' 'Belize' 'Benin' 'Bermuda' 'Bhutan'\n",
            " 'Bolivia (Plurinational State of)' 'Bonaire, Sint Eustatius and Saba'\n",
            " 'Bosnia and Herzegovina' 'Botswana' 'Brazil' 'British Virgin Islands'\n",
            " 'Brunei Darussalam' 'Bulgaria' 'Burkina Faso' 'Burundi' 'Cabo Verde'\n",
            " 'Cambodia' 'Cameroon' 'Canada' 'Cayman Islands'\n",
            " 'Central African Republic' 'Chad' 'Chile' 'China2'\n",
            " 'China, Hong Kong Special Administrative Region3'\n",
            " 'China, Macao Special Administrative Region4' 'Colombia' 'Comoros'\n",
            " 'Congo' 'Cook Islands' 'Costa Rica' \"Côte d'Ivoire\" 'Croatia' 'Cuba'\n",
            " 'Curaçao' 'Cyprus' 'Czech Republic'\n",
            " \"Democratic People's Republic of Korea\"\n",
            " 'Democratic Republic of the Congo' 'Denmark5' 'Djibouti' 'Dominica'\n",
            " 'Dominican Republic' 'Ecuador' 'Egypt' 'El Salvador' 'Equatorial Guinea'\n",
            " 'Eritrea' 'Estonia' 'Ethiopia' 'Faeroe Islands'\n",
            " 'Falkland Islands (Malvinas)' 'Fiji' 'Finland' 'France6' 'French Guiana'\n",
            " 'French Polynesia' 'Gabon' 'Gambia' 'Georgia' 'Germany' 'Ghana'\n",
            " 'Gibraltar' 'Greece' 'Greenland7' 'Grenada' 'Guadeloupe' 'Guam'\n",
            " 'Guatemala' 'Guernsey' 'Guinea' 'Guinea-Bissau' 'Guyana' 'Haiti'\n",
            " 'Honduras' 'Hungary' 'Iceland' 'India' 'Indonesia8'\n",
            " 'Iran (Islamic Republic of)' 'Iraq' 'Ireland' 'Isle of Man' 'Israel'\n",
            " 'Italy9' 'Jamaica' 'Japan10' 'Jersey' 'Jordan' 'Kazakhstan' 'Kenya'\n",
            " 'Kiribati' 'Kuwait11' 'Kyrgyzstan' \"Lao People's Democratic Republic\"\n",
            " 'Latvia' 'Lebanon' 'Lesotho' 'Liberia' 'Libya' 'Liechtenstein'\n",
            " 'Lithuania' 'Luxembourg' 'Madagascar' 'Malawi' 'Malaysia' 'Maldives'\n",
            " 'Mali' 'Malta' 'Marshall Islands' 'Martinique' 'Mauritania' 'Mauritius'\n",
            " 'Mexico' 'Micronesia (Federated States of)' 'Mongolia' 'Montenegro'\n",
            " 'Montserrat' 'Morocco' 'Mozambique' 'Myanmar' 'Namibia' 'Nauru' 'Nepal'\n",
            " 'Netherlands12' 'New Caledonia' 'New Zealand' 'Nicaragua' 'Niger'\n",
            " 'Nigeria' 'Niue' 'Northern Mariana Islands' 'Norway' 'Oman' 'Pakistan'\n",
            " 'Palau' 'Panama' 'Papua New Guinea' 'Paraguay' 'Peru' 'Philippines'\n",
            " 'Poland' 'Portugal13' 'Puerto Rico' 'Qatar' 'Republic of Korea'\n",
            " 'Republic of Moldova' 'Réunion' 'Romania' 'Russian Federation' 'Rwanda'\n",
            " 'Saint Helena' 'Saint Kitts and Nevis' 'Saint Lucia'\n",
            " 'Saint Pierre and Miquelon' 'Saint Vincent and the Grenadines' 'Samoa'\n",
            " 'Sao Tome and Principe' 'Saudi Arabia14' 'Senegal' 'Serbia15'\n",
            " 'Seychelles' 'Sierra Leone' 'Singapore' 'Sint Maarten (Dutch part)'\n",
            " 'Slovakia' 'Slovenia' 'Solomon Islands' 'Somalia' 'South Africa'\n",
            " 'South Sudan' 'Spain16' 'Sri Lanka' 'State of Palestine' 'Sudan'\n",
            " 'Suriname' 'Swaziland' 'Sweden' 'Switzerland17' 'Syrian Arab Republic'\n",
            " 'Tajikistan' 'Thailand' 'The former Yugoslav Republic of Macedonia'\n",
            " 'Timor-Leste' 'Togo' 'Tonga' 'Trinidad and Tobago' 'Tunisia' 'Turkey'\n",
            " 'Turkmenistan' 'Turks and Caicos Islands' 'Tuvalu' 'Uganda' 'Ukraine18'\n",
            " 'United Arab Emirates'\n",
            " 'United Kingdom of Great Britain and Northern Ireland19'\n",
            " 'United Republic of Tanzania' 'United States of America20'\n",
            " 'United States Virgin Islands' 'Uruguay' 'Uzbekistan' 'Vanuatu'\n",
            " 'Venezuela (Bolivarian Republic of)' 'Viet Nam'\n",
            " 'Wallis and Futuna Islands' 'Yemen' 'Zambia' 'Zimbabwe']\n"
          ]
        }
      ]
    },
    {
      "cell_type": "markdown",
      "source": [
        "### Question 4\n",
        "Rename the following list of countries (for use in later questions):\n",
        "\n",
        "\"Republic of Korea\": \"South Korea\", \"United States of America\": \"United States\", \"United Kingdom of Great Britain and Northern Ireland\": \"United Kingdom\", \"China, Hong Kong Special Administrative Region\": \"Hong Kong\""
      ],
      "metadata": {
        "id": "u-7z_rH-4Oh3"
      }
    },
    {
      "cell_type": "markdown",
      "source": [
        "## Question 5\n",
        "Next, load the GDP data from the file `world_bank.csv`, which is a csv containing countries' GDP from 1960 to 2015 from [World Bank](http://data.worldbank.org/indicator/NY.GDP.MKTP.CD). Call this DataFrame **GDP**. \n",
        "\n",
        "Make sure to skip the header, and rename the following list of countries:\n",
        "\n",
        "```\"Korea, Rep.\": \"South Korea\", \n",
        "\"Iran, Islamic Rep.\": \"Iran\",\n",
        "\"Hong Kong SAR, China\": \"Hong Kong\"```\n",
        "\n",
        "<br>\n",
        "\n",
        "Finally, load the [Sciamgo Journal and Country Rank data for Energy Engineering and Power Technology](http://www.scimagojr.com/countryrank.php?category=2102) from the file `scimagojr-3.xlsx`, which ranks countries based on their journal contributions in the aforementioned area. Call this DataFrame **ScimEn**.\n",
        "\n",
        "Join the three datasets: GDP, Energy, and ScimEn into a new dataset (using the intersection of country names). Use only the last 10 years (2006-2015) of GDP data and only the top 15 countries by Scimagojr 'Rank' (Rank 1 through 15). \n",
        "\n",
        "The index of this DataFrame should be the name of the country, and the columns should be ['Rank', 'Documents', 'Citable documents', 'Citations', 'Self-citations',\n",
        "       'Citations per document', 'H index', 'Energy Supply',\n",
        "       'Energy Supply per Capita', '% Renewable', '2006', '2007', '2008',\n",
        "       '2009', '2010', '2011', '2012', '2013', '2014', '2015'].\n",
        "\n",
        "*Create a function which returns a DataFrame with 20 columns and 15 entries.*"
      ],
      "metadata": {
        "id": "aLph1dbIDzkG"
      }
    },
    {
      "cell_type": "code",
      "source": [
        "def answer5():\n",
        "  GDP=pd.read_csv(....,na_values=...,skiprows = ...)\n",
        "  \n",
        "  \n",
        "  ScimEn=pd.read_excel(...,na_values=...)\n",
        "  \n",
        "  return ..."
      ],
      "metadata": {
        "id": "CYFDSFBvD7D2"
      },
      "execution_count": null,
      "outputs": []
    },
    {
      "cell_type": "markdown",
      "metadata": {
        "id": "4dYUbwzZxtzJ"
      },
      "source": [
        "### 6\n",
        "The previous question joined three datasets then reduced this to just the top 15 entries. When you joined the datasets, but before you reduced this to the top 15 items, how many entries did you lose?\n",
        "\n",
        "*Create a function which should return a single number.*"
      ]
    },
    {
      "cell_type": "code",
      "execution_count": null,
      "metadata": {
        "umich_part_id": "010",
        "umich_partlist_id": "003",
        "id": "XUBW3J_0xtzK"
      },
      "outputs": [],
      "source": [
        "def answer6():\n",
        "\n",
        "\n",
        "    diff = \n",
        "    return None\n",
        "answer6()"
      ]
    },
    {
      "cell_type": "markdown",
      "metadata": {
        "id": "2LZ6WKVZxtzK"
      },
      "source": [
        "## Answer the following questions in the context of only the top 15 countries by Scimagojr Rank (aka the DataFrame returned by question `5`)"
      ]
    },
    {
      "cell_type": "markdown",
      "metadata": {
        "id": "k2ib5x2fxtzL"
      },
      "source": [
        "### Question 7 \n",
        "What is the average GDP over the last 10 years for each country? (exclude missing values from this calculation.)\n",
        "\n",
        "*Create a function which should return a Series named `avgGDP` with 15 countries and their average GDP sorted in descending order.*"
      ]
    },
    {
      "cell_type": "code",
      "execution_count": null,
      "metadata": {
        "scrolled": true,
        "umich_part_id": "011",
        "umich_partlist_id": "003",
        "id": "nSBYbjfgxtzL",
        "outputId": "b1d705e6-94e6-4368-99a3-bdd565d831e6",
        "colab": {
          "base_uri": "https://localhost:8080/"
        }
      },
      "outputs": [
        {
          "output_type": "execute_result",
          "data": {
            "text/plain": [
              "Country\n",
              "United States         1.536434e+13\n",
              "China                 6.348609e+12\n",
              "Japan                 5.542208e+12\n",
              "Germany               3.493025e+12\n",
              "France                2.681725e+12\n",
              "United Kingdom        2.487907e+12\n",
              "Brazil                2.189794e+12\n",
              "Italy                 2.120175e+12\n",
              "India                 1.769297e+12\n",
              "Canada                1.660647e+12\n",
              "Russian Federation    1.565459e+12\n",
              "Spain                 1.418078e+12\n",
              "Australia             1.164043e+12\n",
              "South Korea           1.106715e+12\n",
              "dtype: float64"
            ]
          },
          "metadata": {},
          "execution_count": 81
        }
      ],
      "source": [
        "def answer7():\n",
        "    \n",
        "    \n",
        "    return avgGDP\n",
        "answer7()\n"
      ]
    },
    {
      "cell_type": "markdown",
      "metadata": {
        "id": "QGXZlzxXxtzL"
      },
      "source": [
        "### Question 8 \n",
        "By how much had the GDP changed over the 10 year span for the country with the 6th largest average GDP?\n",
        "\n",
        "*Create a function which should return a single number.*"
      ]
    },
    {
      "cell_type": "code",
      "execution_count": null,
      "metadata": {
        "scrolled": true,
        "umich_part_id": "012",
        "umich_partlist_id": "003",
        "id": "xpG7cp4zxtzM"
      },
      "outputs": [],
      "source": [
        "def answer8():\n",
        "    \n",
        "    return \n",
        "answer8()"
      ]
    },
    {
      "cell_type": "markdown",
      "metadata": {
        "id": "ADhJMRNVxtzM"
      },
      "source": [
        "### Question 9 \n",
        "What is the mean `Energy Supply per Capita`?\n",
        "\n",
        "*Create a function which should return a single number.*"
      ]
    },
    {
      "cell_type": "code",
      "execution_count": null,
      "metadata": {
        "umich_part_id": "013",
        "umich_partlist_id": "003",
        "id": "NBUCEJbgxtzM"
      },
      "outputs": [],
      "source": [
        "def answer9():\n",
        "    \n",
        "    return \n",
        "answer9()"
      ]
    },
    {
      "cell_type": "markdown",
      "metadata": {
        "id": "IY5D_6XtxtzM"
      },
      "source": [
        "### Question 10 \n",
        "What country has the maximum % Renewable and what is the percentage?\n",
        "\n",
        "*Create a function which should return a tuple with the name of the country and the percentage.*"
      ]
    },
    {
      "cell_type": "code",
      "execution_count": null,
      "metadata": {
        "umich_part_id": "014",
        "umich_partlist_id": "003",
        "id": "jXu1U2_zxtzN"
      },
      "outputs": [],
      "source": [
        "def answer10():\n",
        "     \n",
        "    tupl=\n",
        "    return \n",
        "answer10()"
      ]
    },
    {
      "cell_type": "markdown",
      "metadata": {
        "id": "QfuTfZz8xtzN"
      },
      "source": [
        "### Question 11 \n",
        "Create a new column that is the ratio of Self-Citations to Total Citations. \n",
        "What is the maximum value for this new column, and what country has the highest ratio?\n",
        "\n",
        "*Create a function which should return a tuple with the name of the country and the ratio.*"
      ]
    },
    {
      "cell_type": "code",
      "execution_count": null,
      "metadata": {
        "umich_part_id": "015",
        "umich_partlist_id": "003",
        "id": "Vp3JI-n5xtzN"
      },
      "outputs": [],
      "source": [
        "def answer11():\n",
        "    \n",
        "    \n",
        "    return tupl\n",
        "answer11()"
      ]
    },
    {
      "cell_type": "markdown",
      "metadata": {
        "id": "yOeiTQSzxtzN"
      },
      "source": [
        "### Question 12 \n",
        "\n",
        "Create a column that estimates the population using Energy Supply and Energy Supply per capita. \n",
        "What is the third most populous country according to this estimate?\n",
        "\n",
        "*Create a function which should return a single string value.*"
      ]
    },
    {
      "cell_type": "code",
      "execution_count": null,
      "metadata": {
        "umich_part_id": "016",
        "umich_partlist_id": "003",
        "id": "wtaJSv5txtzO"
      },
      "outputs": [],
      "source": [
        "def answer12():\n",
        "    \n",
        "    return \n",
        "answer12()\n"
      ]
    },
    {
      "cell_type": "markdown",
      "metadata": {
        "id": "cOSlghhWxtzO"
      },
      "source": [
        "### Question 13 \n",
        "Create a column that estimates the number of citable documents per person. \n",
        "What is the correlation between the number of citable documents per capita and the energy supply per capita? Use the `.corr()` method, (Pearson's correlation).\n",
        "\n",
        "*Create a function which should return a single number.*\n",
        "\n",
        "*(Optional: Use the built-in function `plot9()` to visualize the relationship between Energy Supply per Capita vs. Citable docs per Capita)*"
      ]
    },
    {
      "cell_type": "code",
      "execution_count": null,
      "metadata": {
        "umich_part_id": "017",
        "umich_partlist_id": "003",
        "id": "MoKayXRwxtzO"
      },
      "outputs": [],
      "source": [
        "def answer13():\n",
        "    \n",
        "    \n",
        "    return corr\n",
        "answer13()\n"
      ]
    },
    {
      "cell_type": "markdown",
      "metadata": {
        "id": "pPd56j14xtzP"
      },
      "source": [
        "### Question 14 \n",
        "Create a new column with a 1 if the country's % Renewable value is at or above the median for all countries in the top 15, and a 0 if the country's % Renewable value is below the median.\n",
        "\n",
        "*Create a function which should return a series named `HighRenew` whose index is the country name sorted in ascending order of rank.*"
      ]
    },
    {
      "cell_type": "code",
      "execution_count": null,
      "metadata": {
        "umich_part_id": "018",
        "umich_partlist_id": "003",
        "id": "sRgfjeBfxtzP"
      },
      "outputs": [],
      "source": [
        "def answer14():\n",
        "    \n",
        "    return HighRenew\n",
        "answer14()"
      ]
    },
    {
      "cell_type": "markdown",
      "metadata": {
        "id": "cyQYSpJIxtzP"
      },
      "source": [
        "### Question 15 \n",
        "Use the following dictionary to group the Countries by Continent, then create a dateframe that displays the sample size (the number of countries in each continent bin), and the sum, mean, and std deviation for the estimated population of each country.\n",
        "\n",
        "```python\n",
        "ContinentDict  = {'China':'Asia', \n",
        "                  'United States':'North America', \n",
        "                  'Japan':'Asia', \n",
        "                  'United Kingdom':'Europe', \n",
        "                  'Russian Federation':'Europe', \n",
        "                  'Canada':'North America', \n",
        "                  'Germany':'Europe', \n",
        "                  'India':'Asia',\n",
        "                  'France':'Europe', \n",
        "                  'South Korea':'Asia', \n",
        "                  'Italy':'Europe', \n",
        "                  'Spain':'Europe', \n",
        "                  'Iran':'Asia',\n",
        "                  'Australia':'Australia', \n",
        "                  'Brazil':'South America'}\n",
        "```\n",
        "\n",
        "*Create a function which should return a DataFrame with index named Continent `['Asia', 'Australia', 'Europe', 'North America', 'South America']` and columns `['size', 'sum', 'mean', 'std']`*"
      ]
    },
    {
      "cell_type": "code",
      "execution_count": null,
      "metadata": {
        "umich_part_id": "019",
        "umich_partlist_id": "003",
        "id": "cWkbMW_8xtzP"
      },
      "outputs": [],
      "source": [
        "def answer15():\n",
        "        \n",
        "    return df\n",
        "answer15()"
      ]
    },
    {
      "cell_type": "markdown",
      "metadata": {
        "id": "Vqfngp00xtzQ"
      },
      "source": [
        "### Question 16 \n",
        "Cut % Renewable into 5 bins. Group Top15 by the Continent, as well as these new % Renewable bins. How many countries are in each of these groups?\n",
        "\n",
        "*Create a function which should return a __Series__ with a MultiIndex of `Continent`, then the bins for `% Renewable`. Do not include groups with no countries.*"
      ]
    },
    {
      "cell_type": "code",
      "execution_count": null,
      "metadata": {
        "scrolled": true,
        "id": "uXaAjn3_xtzQ"
      },
      "outputs": [],
      "source": [
        "def answer16():\n",
        "      \n",
        "    return serie\n",
        "\n",
        "answer16()\n",
        "\n"
      ]
    },
    {
      "cell_type": "markdown",
      "metadata": {
        "id": "ORBVXkVvxtzQ"
      },
      "source": [
        "### Question 17 \n",
        "Convert the Population Estimate series to a string with thousands separator (using commas). Do not round the results.\n",
        "\n",
        "e.g. 317615384.61538464 -> 317,615,384.61538464\n",
        "\n",
        "*Create a function which should return a Series `PopEst` whose index is the country name and whose values are the population estimate string.*"
      ]
    },
    {
      "cell_type": "code",
      "execution_count": null,
      "metadata": {
        "scrolled": true,
        "umich_part_id": "020",
        "umich_partlist_id": "003",
        "id": "yvlFVNPgxtzQ"
      },
      "outputs": [],
      "source": [
        "def answer17():\n",
        "    \n",
        "    return ...\n",
        "answer17()    "
      ]
    },
    {
      "cell_type": "markdown",
      "metadata": {
        "id": "aO5NsQI4xtzR"
      },
      "source": [
        "### Optional\n",
        "\n",
        "Use the built in function `plot_optional()` to see an example visualization."
      ]
    },
    {
      "cell_type": "code",
      "execution_count": null,
      "metadata": {
        "collapsed": true,
        "scrolled": true,
        "id": "ptVd4_CcxtzR"
      },
      "outputs": [],
      "source": [
        "def plot_optional():\n",
        "    import matplotlib as plt\n",
        "    #%matplotlib inline\n",
        "    Top15 = answer5()\n",
        "    ax = Top15.plot(x='Rank', y='% Renewable', kind='scatter', \n",
        "                    c=['#e41a1c','#377eb8','#e41a1c','#4daf4a','#4daf4a','#377eb8','#4daf4a','#e41a1c',\n",
        "                       '#4daf4a','#e41a1c','#4daf4a','#4daf4a','#e41a1c','#dede00','#ff7f00'], \n",
        "                    xticks=range(1,16), s=6*Top15['2014']/10**10, alpha=.75, figsize=[16,6]);\n",
        "\n",
        "    for i, txt in enumerate(Top15.index):\n",
        "        ax.annotate(txt, [Top15['Rank'][i], Top15['% Renewable'][i]], ha='center')\n",
        "\n",
        "    print(\"This is an example of a visualization that can be created to help understand the data. \\\n",
        "This is a bubble chart showing % Renewable vs. Rank. The size of the bubble corresponds to the countries' \\\n",
        "2014 GDP, and the color corresponds to the continent.\")"
      ]
    }
  ],
  "metadata": {
    "anaconda-cloud": {},
    "coursera": {
      "course_slug": "python-data-analysis",
      "graded_item_id": "zAr06",
      "launcher_item_id": "KSSjT",
      "part_id": "SL3fU"
    },
    "kernelspec": {
      "display_name": "Python 3",
      "language": "python",
      "name": "python3"
    },
    "language_info": {
      "codemirror_mode": {
        "name": "ipython",
        "version": 3
      },
      "file_extension": ".py",
      "mimetype": "text/x-python",
      "name": "python",
      "nbconvert_exporter": "python",
      "pygments_lexer": "ipython3",
      "version": "3.8.8"
    },
    "umich": {
      "id": "Assignment 3",
      "version": "1.5"
    },
    "colab": {
      "provenance": [],
      "include_colab_link": true
    }
  },
  "nbformat": 4,
  "nbformat_minor": 0
}